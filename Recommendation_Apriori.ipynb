{
 "cells": [
  {
   "cell_type": "markdown",
   "metadata": {},
   "source": [
    "# Chipotle Food Recommendation using Apriori Algorithm"
   ]
  },
  {
   "cell_type": "markdown",
   "metadata": {},
   "source": [
    "### Read Data"
   ]
  },
  {
   "cell_type": "code",
   "execution_count": 1,
   "metadata": {},
   "outputs": [],
   "source": [
    "import pandas as pd \n",
    "data_url = \"https://raw.githubusercontent.com/justmarkham/DAT8/master/data/chipotle.tsv\""
   ]
  },
  {
   "cell_type": "code",
   "execution_count": 253,
   "metadata": {},
   "outputs": [
    {
     "data": {
      "text/html": [
       "<div>\n",
       "<style scoped>\n",
       "    .dataframe tbody tr th:only-of-type {\n",
       "        vertical-align: middle;\n",
       "    }\n",
       "\n",
       "    .dataframe tbody tr th {\n",
       "        vertical-align: top;\n",
       "    }\n",
       "\n",
       "    .dataframe thead th {\n",
       "        text-align: right;\n",
       "    }\n",
       "</style>\n",
       "<table border=\"1\" class=\"dataframe\">\n",
       "  <thead>\n",
       "    <tr style=\"text-align: right;\">\n",
       "      <th></th>\n",
       "      <th>order_id</th>\n",
       "      <th>quantity</th>\n",
       "      <th>item_name</th>\n",
       "      <th>choice_description</th>\n",
       "      <th>item_price</th>\n",
       "    </tr>\n",
       "  </thead>\n",
       "  <tbody>\n",
       "    <tr>\n",
       "      <td>0</td>\n",
       "      <td>1</td>\n",
       "      <td>1</td>\n",
       "      <td>Chips and Fresh Tomato Salsa</td>\n",
       "      <td>NaN</td>\n",
       "      <td>$2.39</td>\n",
       "    </tr>\n",
       "    <tr>\n",
       "      <td>1</td>\n",
       "      <td>1</td>\n",
       "      <td>1</td>\n",
       "      <td>Izze</td>\n",
       "      <td>[Clementine]</td>\n",
       "      <td>$3.39</td>\n",
       "    </tr>\n",
       "    <tr>\n",
       "      <td>2</td>\n",
       "      <td>1</td>\n",
       "      <td>1</td>\n",
       "      <td>Nantucket Nectar</td>\n",
       "      <td>[Apple]</td>\n",
       "      <td>$3.39</td>\n",
       "    </tr>\n",
       "  </tbody>\n",
       "</table>\n",
       "</div>"
      ],
      "text/plain": [
       "   order_id  quantity                     item_name choice_description  \\\n",
       "0         1         1  Chips and Fresh Tomato Salsa                NaN   \n",
       "1         1         1                          Izze       [Clementine]   \n",
       "2         1         1              Nantucket Nectar            [Apple]   \n",
       "\n",
       "  item_price  \n",
       "0     $2.39   \n",
       "1     $3.39   \n",
       "2     $3.39   "
      ]
     },
     "execution_count": 253,
     "metadata": {},
     "output_type": "execute_result"
    }
   ],
   "source": [
    "df = pd.read_csv(data_url, sep='\\t')\n",
    "df.head(3)"
   ]
  },
  {
   "cell_type": "markdown",
   "metadata": {},
   "source": [
    "## Prepare data for appriori algorithm\n",
    "\n",
    "Apriori needs products in the chart to be grouped in list.<br>\n",
    "Ex. [['Chips and Fresh Tomato Salsa', 'Izze', 'Nantucket Nectar', 'Chips and Tomatillo-Green Chili Salsa'],<br>            ['Izze', 'Nantucket Nectar']]"
   ]
  },
  {
   "cell_type": "code",
   "execution_count": 58,
   "metadata": {},
   "outputs": [],
   "source": [
    "def prepare_data(df):\n",
    "    current_order_id = df.iloc[0,1]\n",
    "    carts = []\n",
    "    products = []\n",
    "    for row in df.iterrows():\n",
    "        order_id = row[1]['order_id']\n",
    "        product_name = row[1]['item_name']\n",
    "        if  order_id == current_order_id:\n",
    "            products.append(product_name)\n",
    "        else:\n",
    "            carts.append(products)\n",
    "            products = []\n",
    "            products.append(product_name)\n",
    "            current_order_id = order_id\n",
    "    carts.append(products)\n",
    "    \n",
    "    return pd.DataFrame(carts)"
   ]
  },
  {
   "cell_type": "code",
   "execution_count": 59,
   "metadata": {},
   "outputs": [],
   "source": [
    "carts_df = prepare_data(df)"
   ]
  },
  {
   "cell_type": "code",
   "execution_count": 251,
   "metadata": {},
   "outputs": [
    {
     "name": "stdout",
     "output_type": "stream",
     "text": [
      "----Sameple cart ---- \n",
      "['Chips and Fresh Tomato Salsa', 'Izze', 'Nantucket Nectar', 'Chips and Tomatillo-Green Chili Salsa', 'None', 'None', 'None', 'None', 'None', 'None', 'None', 'None']\n"
     ]
    }
   ],
   "source": [
    "transactions = []\n",
    "for i in range(carts_df.shape[0]):\n",
    "    transactions.append([str(carts_df.values[i,j]) for j in range(12)])\n",
    "print(f'----Sameple cart ---- \\n{transactions[0]}')"
   ]
  },
  {
   "cell_type": "markdown",
   "metadata": {},
   "source": [
    "## Major components of Apriori Algorithm\n",
    "### Support\n",
    "support refers to the popularity of item and can be calculated by finding the number of transactions containing a particular item divided by the total number of transactions.\n",
    "\n",
    "### Confidence\n",
    "Confidence refers to the likelihood that an item B is also bought if item A is bought. It can be calculated by finding the number of transactions where A and B are bought together, divided by the total number of transactions where A is bought. Mathematically, it can be represented as:\n",
    "\n",
    "Confidence(A → B) = (Transactions containing both (A and B))/(Transactions containing A)\n",
    "\n",
    "### Association rule by Lift\n",
    "\n",
    "lift = 1 → There is no association between A and B.\n",
    "\n",
    "lift < 1→ A and B are unlikely to be bought together.\n",
    "\n",
    "lift > 1 → greater the lift greater is the likelihood of buying both products together."
   ]
  },
  {
   "cell_type": "code",
   "execution_count": 263,
   "metadata": {
    "scrolled": true
   },
   "outputs": [],
   "source": [
    "from apyori import apriori\n",
    "rules = apriori(transactions= transactions, \n",
    "                min_support = 0.003, #Support shows transactions with items purchased together in a single transaction.\n",
    "                min_confidence = 0.3, #Confidence shows transactions where the items are purchased one after the other.\n",
    "                min_lift=3,\n",
    "                min_length=2,\n",
    "                max_length=7\n",
    "               )"
   ]
  },
  {
   "cell_type": "code",
   "execution_count": 264,
   "metadata": {},
   "outputs": [
    {
     "name": "stdout",
     "output_type": "stream",
     "text": [
      "Number of Rules = 12\n"
     ]
    }
   ],
   "source": [
    "results = list(rules)\n",
    "print(f'Number of Rules = {len(results)}')"
   ]
  },
  {
   "cell_type": "code",
   "execution_count": 265,
   "metadata": {},
   "outputs": [
    {
     "name": "stdout",
     "output_type": "stream",
     "text": [
      "----------- Sample rule --------------\n"
     ]
    },
    {
     "data": {
      "text/plain": [
       "RelationRecord(items=frozenset({'Barbacoa Burrito', 'Chicken Bowl', 'Chips'}), support=0.004907306434023991, ordered_statistics=[OrderedStatistic(items_base=frozenset({'Barbacoa Burrito', 'Chicken Bowl'}), items_add=frozenset({'Chips'}), confidence=0.45, lift=3.9677884615384618)])"
      ]
     },
     "execution_count": 265,
     "metadata": {},
     "output_type": "execute_result"
    }
   ],
   "source": [
    "print('----------- Sample rule --------------')\n",
    "results[0]"
   ]
  },
  {
   "cell_type": "markdown",
   "metadata": {},
   "source": [
    "## Visualize the predictions"
   ]
  },
  {
   "cell_type": "code",
   "execution_count": 266,
   "metadata": {},
   "outputs": [],
   "source": [
    "def inspect(results):\n",
    "    lhs         = [\" + \".join(tuple(result[2][0][0])) for result in results]\n",
    "    rhs         = [\" + \".join(tuple(result[2][0][1])) for result in results]\n",
    "    supports    = [result[1] for result in results]\n",
    "    confidences = [result[2][0][2] for result in results]\n",
    "    lifts       = [result[2][0][3] for result in results]\n",
    "    return list(zip(lhs, rhs, supports, confidences, lifts))"
   ]
  },
  {
   "cell_type": "code",
   "execution_count": 267,
   "metadata": {},
   "outputs": [
    {
     "data": {
      "text/html": [
       "<div>\n",
       "<style scoped>\n",
       "    .dataframe tbody tr th:only-of-type {\n",
       "        vertical-align: middle;\n",
       "    }\n",
       "\n",
       "    .dataframe tbody tr th {\n",
       "        vertical-align: top;\n",
       "    }\n",
       "\n",
       "    .dataframe thead th {\n",
       "        text-align: right;\n",
       "    }\n",
       "</style>\n",
       "<table border=\"1\" class=\"dataframe\">\n",
       "  <thead>\n",
       "    <tr style=\"text-align: right;\">\n",
       "      <th></th>\n",
       "      <th>In Cart</th>\n",
       "      <th>Recommendation</th>\n",
       "      <th>Support</th>\n",
       "      <th>Confidence</th>\n",
       "      <th>Lift</th>\n",
       "    </tr>\n",
       "  </thead>\n",
       "  <tbody>\n",
       "    <tr>\n",
       "      <td>3</td>\n",
       "      <td>Canned Soda + Chicken Bowl</td>\n",
       "      <td>Side of Chips</td>\n",
       "      <td>0.003817</td>\n",
       "      <td>0.411765</td>\n",
       "      <td>7.476995</td>\n",
       "    </tr>\n",
       "    <tr>\n",
       "      <td>9</td>\n",
       "      <td>Canned Soda + Chicken Bowl</td>\n",
       "      <td>Side of Chips + None</td>\n",
       "      <td>0.003817</td>\n",
       "      <td>0.411765</td>\n",
       "      <td>7.476995</td>\n",
       "    </tr>\n",
       "    <tr>\n",
       "      <td>5</td>\n",
       "      <td>Chips and Tomatillo Red Chili Salsa</td>\n",
       "      <td>Chicken Bowl + Canned Soft Drink</td>\n",
       "      <td>0.008179</td>\n",
       "      <td>0.326087</td>\n",
       "      <td>5.387779</td>\n",
       "    </tr>\n",
       "    <tr>\n",
       "      <td>11</td>\n",
       "      <td>Chips and Tomatillo Red Chili Salsa</td>\n",
       "      <td>Chicken Bowl + None + Canned Soft Drink</td>\n",
       "      <td>0.008179</td>\n",
       "      <td>0.326087</td>\n",
       "      <td>5.387779</td>\n",
       "    </tr>\n",
       "    <tr>\n",
       "      <td>1</td>\n",
       "      <td>Canned Soda + Chicken Bowl</td>\n",
       "      <td>Bottled Water</td>\n",
       "      <td>0.003272</td>\n",
       "      <td>0.352941</td>\n",
       "      <td>4.203209</td>\n",
       "    </tr>\n",
       "    <tr>\n",
       "      <td>7</td>\n",
       "      <td>Canned Soda + Chicken Bowl</td>\n",
       "      <td>Bottled Water + None</td>\n",
       "      <td>0.003272</td>\n",
       "      <td>0.352941</td>\n",
       "      <td>4.203209</td>\n",
       "    </tr>\n",
       "    <tr>\n",
       "      <td>6</td>\n",
       "      <td>Barbacoa Burrito + Chicken Bowl</td>\n",
       "      <td>None + Chips</td>\n",
       "      <td>0.004907</td>\n",
       "      <td>0.450000</td>\n",
       "      <td>3.986957</td>\n",
       "    </tr>\n",
       "    <tr>\n",
       "      <td>0</td>\n",
       "      <td>Barbacoa Burrito + Chicken Bowl</td>\n",
       "      <td>Chips</td>\n",
       "      <td>0.004907</td>\n",
       "      <td>0.450000</td>\n",
       "      <td>3.967788</td>\n",
       "    </tr>\n",
       "    <tr>\n",
       "      <td>8</td>\n",
       "      <td>Chicken Bowl + Bottled Water</td>\n",
       "      <td>None + Chips</td>\n",
       "      <td>0.015267</td>\n",
       "      <td>0.405797</td>\n",
       "      <td>3.595323</td>\n",
       "    </tr>\n",
       "    <tr>\n",
       "      <td>2</td>\n",
       "      <td>Chicken Bowl + Bottled Water</td>\n",
       "      <td>Chips</td>\n",
       "      <td>0.015267</td>\n",
       "      <td>0.405797</td>\n",
       "      <td>3.578038</td>\n",
       "    </tr>\n",
       "    <tr>\n",
       "      <td>4</td>\n",
       "      <td>Chips and Tomatillo Green Chili Salsa + Chicke...</td>\n",
       "      <td>Canned Soft Drink</td>\n",
       "      <td>0.003817</td>\n",
       "      <td>0.538462</td>\n",
       "      <td>3.578038</td>\n",
       "    </tr>\n",
       "    <tr>\n",
       "      <td>10</td>\n",
       "      <td>Chips and Tomatillo Green Chili Salsa + Chicke...</td>\n",
       "      <td>None + Canned Soft Drink</td>\n",
       "      <td>0.003817</td>\n",
       "      <td>0.538462</td>\n",
       "      <td>3.578038</td>\n",
       "    </tr>\n",
       "  </tbody>\n",
       "</table>\n",
       "</div>"
      ],
      "text/plain": [
       "                                              In Cart  \\\n",
       "3                          Canned Soda + Chicken Bowl   \n",
       "9                          Canned Soda + Chicken Bowl   \n",
       "5                 Chips and Tomatillo Red Chili Salsa   \n",
       "11                Chips and Tomatillo Red Chili Salsa   \n",
       "1                          Canned Soda + Chicken Bowl   \n",
       "7                          Canned Soda + Chicken Bowl   \n",
       "6                     Barbacoa Burrito + Chicken Bowl   \n",
       "0                     Barbacoa Burrito + Chicken Bowl   \n",
       "8                        Chicken Bowl + Bottled Water   \n",
       "2                        Chicken Bowl + Bottled Water   \n",
       "4   Chips and Tomatillo Green Chili Salsa + Chicke...   \n",
       "10  Chips and Tomatillo Green Chili Salsa + Chicke...   \n",
       "\n",
       "                             Recommendation   Support  Confidence      Lift  \n",
       "3                             Side of Chips  0.003817    0.411765  7.476995  \n",
       "9                      Side of Chips + None  0.003817    0.411765  7.476995  \n",
       "5          Chicken Bowl + Canned Soft Drink  0.008179    0.326087  5.387779  \n",
       "11  Chicken Bowl + None + Canned Soft Drink  0.008179    0.326087  5.387779  \n",
       "1                             Bottled Water  0.003272    0.352941  4.203209  \n",
       "7                      Bottled Water + None  0.003272    0.352941  4.203209  \n",
       "6                              None + Chips  0.004907    0.450000  3.986957  \n",
       "0                                     Chips  0.004907    0.450000  3.967788  \n",
       "8                              None + Chips  0.015267    0.405797  3.595323  \n",
       "2                                     Chips  0.015267    0.405797  3.578038  \n",
       "4                         Canned Soft Drink  0.003817    0.538462  3.578038  \n",
       "10                 None + Canned Soft Drink  0.003817    0.538462  3.578038  "
      ]
     },
     "execution_count": 267,
     "metadata": {},
     "output_type": "execute_result"
    }
   ],
   "source": [
    "\n",
    "resultsinDataFrame = pd.DataFrame(inspect(results), columns = ['In Cart', 'Recommendation', \n",
    "                                                                'Support', 'Confidence', 'Lift'])\n",
    "resultsinDataFrame.sort_values(by='Lift', ascending=False)"
   ]
  },
  {
   "cell_type": "code",
   "execution_count": null,
   "metadata": {},
   "outputs": [],
   "source": []
  }
 ],
 "metadata": {
  "kernelspec": {
   "display_name": "Python 3",
   "language": "python",
   "name": "python3"
  },
  "language_info": {
   "codemirror_mode": {
    "name": "ipython",
    "version": 3
   },
   "file_extension": ".py",
   "mimetype": "text/x-python",
   "name": "python",
   "nbconvert_exporter": "python",
   "pygments_lexer": "ipython3",
   "version": "3.7.3"
  }
 },
 "nbformat": 4,
 "nbformat_minor": 2
}
